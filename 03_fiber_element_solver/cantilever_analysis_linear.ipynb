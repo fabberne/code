{
 "cells": [
  {
   "cell_type": "code",
   "execution_count": 1,
   "id": "3c7ba556",
   "metadata": {},
   "outputs": [],
   "source": [
    "import sys\n",
    "import os\n",
    "\n",
    "# Add the src folder to the Python path\n",
    "sys.path.append(os.path.abspath(os.path.join(os.getcwd(), 'src')))\n",
    "\n",
    "import numpy as np\n",
    "import matplotlib.pyplot as plt\n",
    "\n",
    "import mesh\n",
    "import geometry\n",
    "import material\n",
    "import cross_section\n",
    "import beam_element"
   ]
  },
  {
   "cell_type": "code",
   "execution_count": 2,
   "id": "3bbab094",
   "metadata": {},
   "outputs": [
    {
     "data": {
      "image/png": "[encoded data removed]",
      "text/plain": [
       "<Figure size 600x600 with 1 Axes>"
      ]
     },
     "metadata": {},
     "output_type": "display_data"
    },
    {
     "name": "stdout",
     "output_type": "stream",
     "text": [
      "╒════════════════════╤═══════════════╕\n",
      "│ Mesh Type          │ quadrilateral │\n",
      "├────────────────────┼───────────────┤\n",
      "│ Number of elements │ 508           │\n",
      "├────────────────────┼───────────────┤\n",
      "│ Number of nodes    │ 701           │\n",
      "├────────────────────┼───────────────┤\n",
      "│ Cross Section Area │ 5105.00       │\n",
      "╘════════════════════╧═══════════════╛\n",
      "╒═══════════════════╤═════════════╤═════════════╕\n",
      "│                   │           y │           z │\n",
      "╞═══════════════════╪═════════════╪═════════════╡\n",
      "│ Centroid          │       -0.00 │        0.00 │\n",
      "├───────────────────┼─────────────┼─────────────┤\n",
      "│ Moment of inertia │ 35094541.67 │ 13337223.85 │\n",
      "╘═══════════════════╧═════════════╧═════════════╛\n"
     ]
    }
   ],
   "source": [
    "H    = geometry.H_beam(web_width     =   6.5,\n",
    "                       web_height    = 170.0,\n",
    "                       flange_width  = 200.0,\n",
    "                       flange_height =  10.0)\n",
    "Mesh = mesh.Mesh(H, \"quadrilateral\", 3)\n",
    "\n",
    "Mesh.plot()\n",
    "Mesh.print()"
   ]
  },
  {
   "cell_type": "code",
   "execution_count": 3,
   "id": "24115729",
   "metadata": {},
   "outputs": [],
   "source": [
    "nodes = np.array([[0.0,0.0,0.0],[0.0,1000.0,0.0]])\n",
    "beam = beam_element.Beam_Element(Mesh, 3, nodes, [0,1,2,3,4,5])\n",
    "K = beam.get_local_stiffness_matrix()"
   ]
  },
  {
   "cell_type": "code",
   "execution_count": 4,
   "id": "d476034e",
   "metadata": {},
   "outputs": [],
   "source": [
    "import pandas as pd\n",
    "def print_nodal_displacements_and_forces(u, F_int):\n",
    "    # Define labels for the DOFs\n",
    "    dof_labels = [\n",
    "        'u1 [mm]', 'v1 [mm]', 'w1 [mm]', 'θx1 [rad]', 'θy1 [rad]', 'θz1 [rad]',\n",
    "        'u2 [mm]', 'v2 [mm]', 'w2 [mm]', 'θx2 [rad]', 'θy2 [rad]', 'θz2 [rad]'\n",
    "    ]\n",
    "    F_int_labels = [\n",
    "\t\t'Fx1 [kN]', 'Fy1 [kN]', 'Fz1 [kN]', 'Mx1 [kNm]', 'My1 [kNm]', 'Mz1 [kNm]',\n",
    "\t\t'Fx2 [kN]', 'Fy2 [kN]', 'Fz2 [kN]', 'Mx2 [kNm]', 'My2 [kNm]', 'Mz2 [kNm]'\n",
    "\t]\n",
    "\n",
    "    F_int[[0,1,2,6,7,8]] = F_int[[0,1,2,6,7,8]] / 1000.0 # Convert to kN\n",
    "    F_int[[3,4,5,9,10,11]] = F_int[[3,4,5,9,10,11]] / 1000000.0 # Convert to kNm\n",
    "    # Create a DataFrame\n",
    "    df1 = pd.DataFrame({\n",
    "        'Displacement': u\n",
    "    }, index=dof_labels)\n",
    "    df2 = pd.DataFrame({\n",
    "        'Internal Force': F_int\n",
    "    }, index=F_int_labels)\n",
    "\n",
    "    # Format nicely\n",
    "    pd.set_option('display.precision', 6)\n",
    "    pd.set_option('display.float_format', '{:,.3f}'.format)\n",
    "    print(df1)\n",
    "    print(df2)"
   ]
  },
  {
   "cell_type": "code",
   "execution_count": 5,
   "id": "8c6fa2aa",
   "metadata": {},
   "outputs": [
    {
     "name": "stdout",
     "output_type": "stream",
     "text": [
      "           Displacement\n",
      "u1 [mm]           0.000\n",
      "v1 [mm]           0.000\n",
      "w1 [mm]           0.000\n",
      "θx1 [rad]         0.000\n",
      "θy1 [rad]         0.000\n",
      "θz1 [rad]         0.000\n",
      "u2 [mm]           0.000\n",
      "v2 [mm]           0.000\n",
      "w2 [mm]          -4.524\n",
      "θx2 [rad]        -0.007\n",
      "θy2 [rad]         0.000\n",
      "θz2 [rad]        -0.000\n",
      "           Internal Force\n",
      "Fx1 [kN]           -0.000\n",
      "Fy1 [kN]            0.000\n",
      "Fz1 [kN]          100.000\n",
      "Mx1 [kNm]         100.000\n",
      "My1 [kNm]           0.000\n",
      "Mz1 [kNm]           0.000\n",
      "Fx2 [kN]            0.000\n",
      "Fy2 [kN]           -0.000\n",
      "Fz2 [kN]         -100.000\n",
      "Mx2 [kNm]           0.000\n",
      "My2 [kNm]           0.000\n",
      "Mz2 [kNm]           0.000\n"
     ]
    }
   ],
   "source": [
    "k_global = beam.get_global_stiffness_matrix()\n",
    "F = np.array([0.0, 0.0, 0.0, 0.0, 0.0, 0.0, 0.0, 0.0, -100000.0, 0.0, 0.0, 0.0])\n",
    "\n",
    "fixed_dofs = [0,1,2,3,4,5]\n",
    "\n",
    "for dof in fixed_dofs:\n",
    "    k_global[dof,:] = 0\n",
    "    k_global[:,dof] = 0\n",
    "    k_global[dof,dof] = 1.0\n",
    "    F[dof] = 0.0\n",
    "\t\n",
    "u = np.linalg.solve(k_global, F)\n",
    "\n",
    "k_global = beam.get_global_stiffness_matrix()\n",
    "F_int = np.dot(k_global, u)\n",
    "\n",
    "print_nodal_displacements_and_forces(u, F_int)"
   ]
  }
 ],
 "metadata": {
  "kernelspec": {
   "display_name": "Python 3",
   "language": "python",
   "name": "python3"
  },
  "language_info": {
   "codemirror_mode": {
    "name": "ipython",
    "version": 3
   },
   "file_extension": ".py",
   "mimetype": "text/x-python",
   "name": "python",
   "nbconvert_exporter": "python",
   "pygments_lexer": "ipython3",
   "version": "3.13.3"
  }
 },
 "nbformat": 4,
 "nbformat_minor": 5
}
